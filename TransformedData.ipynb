{
 "cells": [
  {
   "cell_type": "code",
   "execution_count": 0,
   "metadata": {
    "application/vnd.databricks.v1+cell": {
     "cellMetadata": {
      "byteLimit": 2048000,
      "rowLimit": 10000
     },
     "inputWidgets": {},
     "nuid": "2d2d493c-6186-4ad1-a703-7cba84caab4f",
     "showTitle": false,
     "title": ""
    }
   },
   "outputs": [],
   "source": [
    "from pyspark.sql.functions import col\n",
    "from pyspark.sql.types import IntegerType, DoubleType, BooleanType, DateType\n",
    "from pyspark.sql.functions import dense_rank\n",
    "from pyspark.sql.functions import lit \n",
    "from pyspark.sql.window import Window"
   ]
  },
  {
   "cell_type": "code",
   "execution_count": 0,
   "metadata": {
    "application/vnd.databricks.v1+cell": {
     "cellMetadata": {
      "byteLimit": 2048000,
      "rowLimit": 10000
     },
     "inputWidgets": {},
     "nuid": "0bc74c6b-70f8-4b14-9cf7-ae8d447421cb",
     "showTitle": false,
     "title": ""
    }
   },
   "outputs": [],
   "source": [
    "configs = {\"fs.azure.account.auth.type\": \"OAuth\",\n",
    "\"fs.azure.account.oauth.provider.type\": \"org.apache.hadoop.fs.azurebfs.oauth2.ClientCredsTokenProvider\",\n",
    "\"fs.azure.account.oauth2.client.id\": dbutils.secrets.get(scope=\"tokyoolympic2021\", key=\"clientId\"),\n",
    "\"fs.azure.account.oauth2.client.secret\": dbutils.secrets.get(scope=\"tokyoolympic2021\", key=\"secretkey\"),\n",
    "\"fs.azure.account.oauth2.client.endpoint\": \"https://login.microsoftonline.com/{}/oauth2/token\".format(dbutils.secrets.get(scope=\"tokyoolympic2021\", key=\"tenantId\"))\n",
    "}\n",
    "\n",
    "# Mount Storage\n",
    "# if storage have mounted already do nothing\n",
    "try:\n",
    "  dbutils.fs.mount(\n",
    "  source = \"abfss://tokyoolympic2021data@tokyoolympic2021storage.dfs.core.windows.net\", # contrainer@storageacc\n",
    "  mount_point = \"/mnt/tokyoolympic\",\n",
    "  extra_configs = configs)\n",
    "except Exception as e:\n",
    "  if \"Directory already mounted\" in str(e):\n",
    "    pass # Ignore error if already mounted.\n",
    "  else:\n",
    "    raise e"
   ]
  },
  {
   "cell_type": "code",
   "execution_count": 0,
   "metadata": {
    "application/vnd.databricks.v1+cell": {
     "cellMetadata": {
      "byteLimit": 2048000,
      "rowLimit": 10000
     },
     "inputWidgets": {},
     "nuid": "0c8b241f-8d11-49ae-b2e4-b3d0dc96d238",
     "showTitle": false,
     "title": ""
    }
   },
   "outputs": [],
   "source": [
    "%fs\n",
    "ls \"mnt/tokyoolympic\""
   ]
  },
  {
   "cell_type": "code",
   "execution_count": 0,
   "metadata": {
    "application/vnd.databricks.v1+cell": {
     "cellMetadata": {
      "byteLimit": 2048000,
      "rowLimit": 10000
     },
     "inputWidgets": {},
     "nuid": "f762da0c-7e63-4fb1-91f4-5ecb8895ad98",
     "showTitle": false,
     "title": ""
    }
   },
   "outputs": [],
   "source": [
    "spark"
   ]
  },
  {
   "cell_type": "code",
   "execution_count": 0,
   "metadata": {
    "application/vnd.databricks.v1+cell": {
     "cellMetadata": {
      "byteLimit": 2048000,
      "rowLimit": 10000
     },
     "inputWidgets": {},
     "nuid": "ada0d0f6-9916-400f-87c0-b4b4156c909a",
     "showTitle": false,
     "title": ""
    }
   },
   "outputs": [],
   "source": [
    "# Load data from datalake \n",
    "# option inferSchema -> spark will try to read what is actual type in csv\n",
    "\n",
    "athletes = spark.read.format('csv').option('header','true').option('inferSchema','true').load('/mnt/tokyoolympic/rawData/athletes.csv')\n",
    "coaches = spark.read.format('csv').option('header','true').option('inferSchema','true').load('/mnt/tokyoolympic/rawData/coaches.csv')\n",
    "entriesGender = spark.read.format('csv').option('header','true').load('/mnt/tokyoolympic/rawData/entriesGender.csv')\n",
    "medals = spark.read.format('csv').option('header','true').option('inferSchema','true').load('/mnt/tokyoolympic/rawData/medals.csv')\n",
    "teams = spark.read.format('csv').option('header','true').option('inferSchema','true').load('/mnt/tokyoolympic/rawData/teams.csv')"
   ]
  },
  {
   "cell_type": "code",
   "execution_count": 0,
   "metadata": {
    "application/vnd.databricks.v1+cell": {
     "cellMetadata": {
      "byteLimit": 2048000,
      "rowLimit": 10000
     },
     "inputWidgets": {},
     "nuid": "ec27d303-d5b8-487f-838f-642bd24deb58",
     "showTitle": false,
     "title": ""
    }
   },
   "outputs": [],
   "source": [
    "athletes.show()\n",
    "athletes.printSchema()"
   ]
  },
  {
   "cell_type": "code",
   "execution_count": 0,
   "metadata": {
    "application/vnd.databricks.v1+cell": {
     "cellMetadata": {
      "byteLimit": 2048000,
      "rowLimit": 10000
     },
     "inputWidgets": {},
     "nuid": "cd6b6cf9-74e2-4b38-a1d0-f18dfb1dc324",
     "showTitle": false,
     "title": ""
    }
   },
   "outputs": [],
   "source": [
    "coaches.show()\n",
    "coaches.printSchema()"
   ]
  },
  {
   "cell_type": "code",
   "execution_count": 0,
   "metadata": {
    "application/vnd.databricks.v1+cell": {
     "cellMetadata": {
      "byteLimit": 2048000,
      "rowLimit": 10000
     },
     "inputWidgets": {},
     "nuid": "025c6be8-91c7-4835-8e96-2dc2b87c714d",
     "showTitle": false,
     "title": ""
    }
   },
   "outputs": [],
   "source": [
    "entriesGender.show()\n",
    "entriesGender.printSchema()"
   ]
  },
  {
   "cell_type": "code",
   "execution_count": 0,
   "metadata": {
    "application/vnd.databricks.v1+cell": {
     "cellMetadata": {
      "byteLimit": 2048000,
      "rowLimit": 10000
     },
     "inputWidgets": {},
     "nuid": "f449bca6-c3de-4e68-9629-3d03e8310e05",
     "showTitle": false,
     "title": ""
    }
   },
   "outputs": [],
   "source": [
    "# Mannual Column casting\n",
    "\n",
    "entriesGender = entriesGender.withColumn('Female',col('Female').cast(IntegerType()))\\\n",
    "                .withColumn('Male',col('Male').cast(IntegerType()))\\\n",
    "                .withColumn('Total',col('Total').cast(IntegerType()))\n",
    "entriesGender.printSchema()"
   ]
  },
  {
   "cell_type": "code",
   "execution_count": 0,
   "metadata": {
    "application/vnd.databricks.v1+cell": {
     "cellMetadata": {
      "byteLimit": 2048000,
      "rowLimit": 10000
     },
     "inputWidgets": {},
     "nuid": "baf803e2-75d8-4e9f-b766-40e7e0e00081",
     "showTitle": false,
     "title": ""
    }
   },
   "outputs": [],
   "source": [
    "medals.show()\n",
    "medals.printSchema()"
   ]
  },
  {
   "cell_type": "code",
   "execution_count": 0,
   "metadata": {
    "application/vnd.databricks.v1+cell": {
     "cellMetadata": {
      "byteLimit": 2048000,
      "rowLimit": 10000
     },
     "inputWidgets": {},
     "nuid": "12e5db3f-c1d9-4267-9255-abd0e0cba17a",
     "showTitle": false,
     "title": ""
    }
   },
   "outputs": [],
   "source": [
    "teams.show()\n",
    "teams.printSchema()"
   ]
  },
  {
   "cell_type": "code",
   "execution_count": 0,
   "metadata": {
    "application/vnd.databricks.v1+cell": {
     "cellMetadata": {
      "byteLimit": 2048000,
      "rowLimit": 10000
     },
     "inputWidgets": {},
     "nuid": "59e49b2c-b3e8-4e86-9ff3-97e93499f58c",
     "showTitle": false,
     "title": ""
    }
   },
   "outputs": [],
   "source": [
    "# Drop for use new ranking system\n",
    "\n",
    "medals = medals.drop(col('Total'))\n",
    "medals = medals.drop(col('Rank by Total'))"
   ]
  },
  {
   "cell_type": "code",
   "execution_count": 0,
   "metadata": {
    "application/vnd.databricks.v1+cell": {
     "cellMetadata": {
      "byteLimit": 2048000,
      "rowLimit": 10000
     },
     "inputWidgets": {},
     "nuid": "c26c72c0-268f-4da6-8672-23bd3813ec80",
     "showTitle": false,
     "title": ""
    }
   },
   "outputs": [],
   "source": [
    "# Ranking countries by medals earned\n",
    "# Gold = 7 pts\n",
    "# Silver = 4 pts\n",
    "# bronze = 2 pts\n",
    "\n",
    "medals = medals.withColumn('Total',7*col('Gold')+4*col('Silver')+2*col('Bronze'))\n",
    "medals = medals.withColumn('Temp',lit(1))\n",
    "partition = Window.partitionBy(col('Temp')).orderBy(col('Total').desc())\n",
    "medals = medals.withColumn('Rank',dense_rank().over(partition))\n",
    "medals = medals.drop(col('Temp'))\n"
   ]
  },
  {
   "cell_type": "code",
   "execution_count": 0,
   "metadata": {
    "application/vnd.databricks.v1+cell": {
     "cellMetadata": {
      "byteLimit": 2048000,
      "rowLimit": 10000
     },
     "inputWidgets": {},
     "nuid": "ff5c2d40-4da2-4114-a37d-94ac10f5d9c3",
     "showTitle": false,
     "title": ""
    }
   },
   "outputs": [],
   "source": [
    "medals.show()"
   ]
  },
  {
   "cell_type": "code",
   "execution_count": 0,
   "metadata": {
    "application/vnd.databricks.v1+cell": {
     "cellMetadata": {
      "byteLimit": 2048000,
      "rowLimit": 10000
     },
     "inputWidgets": {},
     "nuid": "93f2da61-803d-471b-98f9-c67935bfa07e",
     "showTitle": false,
     "title": ""
    }
   },
   "outputs": [],
   "source": [
    "# save file that was transform to transformedData folder\n",
    "athletes.repartition(1).write.mode(\"overwrite\").option(\"header\",'true').csv(\"/mnt/tokyoolymic/transformedData/athletes\")\n",
    "coaches.repartition(1).write.mode(\"overwrite\").option(\"header\",\"true\").csv(\"/mnt/tokyoolymic/transformedData/coaches\")\n",
    "entriesGender.repartition(1).write.mode(\"overwrite\").option(\"header\",\"true\").csv(\"/mnt/tokyoolymic/transformedData/entriesGender\")\n",
    "medals.repartition(1).write.mode(\"overwrite\").option(\"header\",\"true\").csv(\"/mnt/tokyoolymic/transformedData/medals\")\n",
    "teams.repartition(1).write.mode(\"overwrite\").option(\"header\",\"true\").csv(\"/mnt/tokyoolymic/transformedData/teams\") "
   ]
  }
 ],
 "metadata": {
  "application/vnd.databricks.v1+notebook": {
   "dashboards": [],
   "language": "python",
   "notebookMetadata": {
    "mostRecentlyExecutedCommandWithImplicitDF": {
     "commandId": 1843377803287802,
     "dataframes": [
      "_sqldf"
     ]
    },
    "pythonIndentUnit": 4
   },
   "notebookName": "TransformedData",
   "widgets": {}
  }
 },
 "nbformat": 4,
 "nbformat_minor": 0
}
